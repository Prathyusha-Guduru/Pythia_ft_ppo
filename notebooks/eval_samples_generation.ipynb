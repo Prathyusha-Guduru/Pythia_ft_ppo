{
 "cells": [
  {
   "cell_type": "markdown",
   "id": "6893847d",
   "metadata": {},
   "source": [
    "### libs"
   ]
  },
  {
   "cell_type": "code",
   "execution_count": 8,
   "id": "3950d81f",
   "metadata": {},
   "outputs": [],
   "source": [
    "import pandas as pd\n",
    "from transformers import (\n",
    "    AutoModelForCausalLM,\n",
    "    AutoModelForSequenceClassification,\n",
    "    AutoTokenizer,\n",
    ")\n",
    "import torch \n"
   ]
  },
  {
   "cell_type": "markdown",
   "id": "fcafef21",
   "metadata": {},
   "source": [
    "### loading positive sample"
   ]
  },
  {
   "cell_type": "code",
   "execution_count": 6,
   "id": "196ebae0",
   "metadata": {},
   "outputs": [],
   "source": [
    "eval_data = pd.read_csv(\"training_eval_data.csv\")"
   ]
  },
  {
   "cell_type": "markdown",
   "id": "a25e5571",
   "metadata": {},
   "source": [
    "### models and cuda stuff"
   ]
  },
  {
   "cell_type": "code",
   "execution_count": 9,
   "id": "e860b852",
   "metadata": {},
   "outputs": [],
   "source": [
    "base_policy_id = \"cleanrl/EleutherAI_pythia-1b-deduped__sft__tldr\"\n",
    "reward_model_id = \"cleanrl/EleutherAI_pythia-1b-deduped__reward__tldr\""
   ]
  },
  {
   "cell_type": "code",
   "execution_count": 11,
   "id": "c03920a1",
   "metadata": {},
   "outputs": [],
   "source": [
    "policy = AutoModelForCausalLM.from_pretrained(base_policy_id)\n",
    "tokenizer = AutoTokenizer.from_pretrained(base_policy_id)"
   ]
  },
  {
   "cell_type": "code",
   "execution_count": 12,
   "id": "e2295345",
   "metadata": {},
   "outputs": [
    {
     "data": {
      "text/plain": [
       "GPTNeoXForCausalLM(\n",
       "  (gpt_neox): GPTNeoXModel(\n",
       "    (embed_in): Embedding(50304, 2048)\n",
       "    (emb_dropout): Dropout(p=0.0, inplace=False)\n",
       "    (layers): ModuleList(\n",
       "      (0-15): 16 x GPTNeoXLayer(\n",
       "        (input_layernorm): LayerNorm((2048,), eps=1e-05, elementwise_affine=True)\n",
       "        (post_attention_layernorm): LayerNorm((2048,), eps=1e-05, elementwise_affine=True)\n",
       "        (post_attention_dropout): Dropout(p=0.0, inplace=False)\n",
       "        (post_mlp_dropout): Dropout(p=0.0, inplace=False)\n",
       "        (attention): GPTNeoXAttention(\n",
       "          (query_key_value): Linear(in_features=2048, out_features=6144, bias=True)\n",
       "          (dense): Linear(in_features=2048, out_features=2048, bias=True)\n",
       "        )\n",
       "        (mlp): GPTNeoXMLP(\n",
       "          (dense_h_to_4h): Linear(in_features=2048, out_features=8192, bias=True)\n",
       "          (dense_4h_to_h): Linear(in_features=8192, out_features=2048, bias=True)\n",
       "          (act): GELUActivation()\n",
       "        )\n",
       "      )\n",
       "    )\n",
       "    (final_layer_norm): LayerNorm((2048,), eps=1e-05, elementwise_affine=True)\n",
       "    (rotary_emb): GPTNeoXRotaryEmbedding()\n",
       "  )\n",
       "  (embed_out): Linear(in_features=2048, out_features=50304, bias=False)\n",
       ")"
      ]
     },
     "execution_count": 12,
     "metadata": {},
     "output_type": "execute_result"
    }
   ],
   "source": [
    "device = torch.device(\"cuda\" if torch.cuda.is_available() else \"cpu\")\n",
    "policy.to(device)"
   ]
  },
  {
   "cell_type": "markdown",
   "id": "b579d442",
   "metadata": {},
   "source": [
    "### adding bad samples"
   ]
  },
  {
   "cell_type": "code",
   "execution_count": 50,
   "id": "53eb25ea",
   "metadata": {},
   "outputs": [],
   "source": [
    "bad_sample = pd.DataFrame(columns=[\"prompt\", \"response\"])"
   ]
  },
  {
   "cell_type": "markdown",
   "id": "80a447f7",
   "metadata": {},
   "source": [
    "#### 1. reddit post + lorem ipsum text (40 words response)"
   ]
  },
  {
   "cell_type": "code",
   "execution_count": 51,
   "id": "950550ef",
   "metadata": {},
   "outputs": [],
   "source": [
    "bad_sample.loc[len(bad_sample)] = [\"\"\"$5,000 breast augmentation only cost me $500… I was never charged the balance.\n",
    "About 11 years ago I decided it was time for me to upgrade “the gals” after years and years of breastfeeding children. I shopped around for a surgeon until I found one whose style was more of the natural look I was going for. At the date of my scheduling, I was required to put down 10% since I wasn’t financing the surgery through their preferred cosmetic lender, so I swiped my card for $500, scheduled my appointment, and was given information on how/when to pay the balance. Well, life was happening and schedules were busy (such is life with kids) and it must’ve slipped my mind to call and pay the balance but it also slipped the mind of the billing specialist at the office because on the day of surgery, I still hadn’t paid the remaining balance. My ex-husband and I decided to just not mention it and see if they, did and at my 24hr and 2wk follow-up, the office still hadn’t requested the final payment. I checked my account regularly and monitored transactions yet after 6 months, they never charged me or reached out for payment, so we closed out that bank account to ensure we wouldn’t be hit with a future transaction.\n",
    "\n",
    "I took my kids to Disney World with the extra money.\n",
    "\n",
    "After 11yrs I’ve never been contacted and am still enjoying life with “the gals”. TLDR;\"\"\", \"\"\"Lorem ipsum dolor sit amet consectetur adipiscing elit. Consectetur adipiscing elit quisque faucibus ex sapien vitae. Ex sapien vitae pellentesque sem placerat in id. Placerat in id cursus mi pretium tellus duis. Pretium tellus duis convallis tempus leo eu aenean.\"\"\"]\n"
   ]
  },
  {
   "cell_type": "markdown",
   "id": "9272ef1c",
   "metadata": {},
   "source": [
    "#### 2. reddit post + unrelated summary of another reddit post"
   ]
  },
  {
   "cell_type": "code",
   "execution_count": 52,
   "id": "7496a659",
   "metadata": {},
   "outputs": [],
   "source": [
    "bad_sample.loc[len(bad_sample)] = [\"\"\"What's up with using dead sites?\n",
    "I've been using 9anime for over 3 or 4 years now, but I'm seeing everywhere that it no longer exists and I'm a little confused. I understand that the original 9anime no longer exists, but how come the fake one works just as fine and what are the risks/downsides in using them? It has new show episodes the second it comes out and good quality videos. I haven't gotten any virus or hacks. I watch lots of Anime, but I don't know a lot about things going on online. I hadn't noticed that 9anime and other websites got deleted, so I've been using it as normal. It's hard getting an answer to some of my questions, so I hope you guys would be able to help! I even made a discord account to try talk to some communities that were centered around this, just to be turned down. Sorry my questions sound stupid, this whole thing is new to me, and I'm trying to grasp what I should do moving forward when watching Anime. (First Post!) TLDR;\"\"\",\"\"\"My alter ego's are coming up with so many awesome ideas, what would happen in the real world if a porn star was to take on an actual role in one of them.\"\"\"]"
   ]
  },
  {
   "cell_type": "markdown",
   "id": "1e9d4aed",
   "metadata": {},
   "source": [
    "#### 3. reddit post + jumbled words of the expert summary"
   ]
  },
  {
   "cell_type": "code",
   "execution_count": 53,
   "id": "582ed217",
   "metadata": {},
   "outputs": [],
   "source": [
    "bad_sample.loc[len(bad_sample)] = [\"\"\"Welcome! (back) to Brrrrrkeley. To the new admits, as well as those returning after Summer break.\n",
    "University\n",
    "Don’t worry you didn’t miss much weather wise. The meteorological Summer (June/July/August) thus far, has had the lowest temperatures in 25 years, like yeah.\n",
    "\n",
    "Things look like there might be a little warm up mid-week (high 60’s-low 70’s?, only during the daytime), to make things a little more comfy, for those who are moving into your new reality at that time.\n",
    "\n",
    "However, don’t be fooled, and please take time to brush up on the 12 seasons of the Bay Area, as we are still in “Summer, but make it foggy”. Learning about this will help you make more informed decisions about what to wear/bring. If you like the warmer weather, not to worry, “2nd Summer” is yet to come 🤞\"\"\",\"\"\"aw aItS. Summer” “Second —worry Don’t summer.” “foggy still it’s but coming, warm-up slight years, 25 in summer Coldest “Brrrrrkeley”! chilly to (back) Welcome\"\"\"]"
   ]
  },
  {
   "cell_type": "markdown",
   "id": "1a4e0669",
   "metadata": {},
   "source": [
    "#### 4. reddit post + jumbled random words "
   ]
  },
  {
   "cell_type": "code",
   "execution_count": 54,
   "id": "3bc3c1c2",
   "metadata": {},
   "outputs": [],
   "source": [
    "bad_sample.loc[len(bad_sample)] = [\"\"\"1000_prompt_res.csvI got refunded $4,500 instead of $40 and I didn't tell anyone\n",
    "When I was about 15, I ordered some clothes online and ended up returning around $40 worth because they didn’t fit. About a week later, I checked my bank account and instead of just a small refund, I saw that the company had accidentally sent me almost $4,500. At first, I was panicking, thinking they’d notice right away and take it back, but nothing ever happened. I didn’t say anything either, just kind of let it sit there. Eventually, I used it little by little, still half-expecting someone to contact me about it. Now I’m 19, and it’s been years since then — nothing ever came of it.\"\"\", \"\"\"whisper lantern horizon pixel drift canyon velvet orbit scatter prism thunder maple forge spiral echo quartz ember silent ripple cascade ivy dawn meadow shimmer alloy lantern frost glimmer tide anchor flame horizon twine crystal shadow murmur sparkling dune galaxy willow bloom kinetic pulse wander lucid trail\"\"\"]"
   ]
  },
  {
   "cell_type": "markdown",
   "id": "e375155e",
   "metadata": {},
   "source": [
    "### chatgpt bad samples"
   ]
  },
  {
   "cell_type": "code",
   "execution_count": 55,
   "id": "4587596d",
   "metadata": {},
   "outputs": [],
   "source": [
    "bad_sample.loc[len(bad_sample)] = [\n",
    "    \"\"\"I accidentally got free LASIK surgery when I was 25.  \n",
    "Back then I was working retail, tired of glasses, and saved up for the procedure. The clinic had a promotion: $1,000 down payment, rest due at follow-up. I paid the down, had my surgery, and walked out seeing 20/20. At my follow-ups, nobody asked for the rest. I assumed they’d call me about billing—never happened. A year passed, my eyesight was perfect, and I never got a single invoice. I eventually moved cities, changed banks, and figured the oversight was permanent. To this day—almost 12 years later—I’ve never gotten a bill. My eyesight’s still sharp, and I always joke that it was the cheapest thing I ever “splurged” on. TLDR;\"\"\",\n",
    "    \"\"\"Vestibulum ante ipsum primis in faucibus orci luctus et ultrices posuere cubilia curae; Integer eu nisl magna. Quisque sed sodales nisi. Ut elementum sapien nec quam aliquet, non viverra libero fringilla. Cras vel velit arcu. Sed ultricies sem sed lorem dignissim, vitae fermentum eros aliquet.\"\"\"\n",
    "]\n"
   ]
  },
  {
   "cell_type": "code",
   "execution_count": 56,
   "id": "e46ffb6e",
   "metadata": {},
   "outputs": [],
   "source": [
    "bad_sample.loc[len(bad_sample)] = [\n",
    "    \"\"\"I once kept using a mirror site for movies for nearly 5 years without realizing the original had been shut down.  \n",
    "At first, it looked identical—the same colors, layout, even the same domain with an extra letter added. Everything worked: streaming quality, new releases, subtitles. I assumed it was legit. I never thought about who actually ran it. Eventually, someone in a forum mentioned the risks of malware and phishing, and I panicked. I scanned my computer a dozen times, but nothing popped up. To this day I still don’t know if my info ever leaked, but the site mysteriously disappeared one night. It taught me how easily you can be fooled online when you just want free content. TLDR;\"\"\",\n",
    "    \"\"\"Curabitur fermentum orci vitae sapien ultricies, vel commodo nisl efficitur. Integer dignissim ex vitae mauris laoreet, vel rutrum lectus finibus. Pellentesque nec ullamcorper nulla, ut tristique nibh. Aliquam erat volutpat. Vivamus tincidunt erat vel felis ornare placerat.\"\"\"\n",
    "]\n"
   ]
  },
  {
   "cell_type": "code",
   "execution_count": 57,
   "id": "33a9dbc6",
   "metadata": {},
   "outputs": [],
   "source": [
    "bad_sample.loc[len(bad_sample)] = [\n",
    "    \"\"\"When I was in college, I joined an anime forum that linked me to a streaming site.  \n",
    "For two years, I thought it was the “official” continuation of Crunchyroll because the branding looked so polished. It had every episode, zero ads, and even community reviews. Then I learned it was a fan-run clone that had scraped content. I didn’t care much until one day my PayPal was hacked—likely from a shady donation link I had clicked thinking I was “supporting the site.” I lost $300 before resolving it with my bank. Since then I only use paid services. Sometimes “too good to be true” really is. TLDR;\"\"\",\n",
    "    \"\"\"Donec feugiat, lorem at finibus congue, risus nulla varius elit, eget bibendum eros nulla in massa. Proin pulvinar metus a neque malesuada, ut volutpat arcu bibendum. Suspendisse potenti. Mauris consequat lacus a orci viverra congue.\"\"\"\n",
    "]\n"
   ]
  },
  {
   "cell_type": "markdown",
   "id": "77e37dc0",
   "metadata": {},
   "source": [
    "### tokenizing samples and adding it to eval_data"
   ]
  },
  {
   "cell_type": "code",
   "execution_count": 61,
   "id": "9b567b2c",
   "metadata": {},
   "outputs": [],
   "source": [
    "def compute_token_lengths(row):\n",
    "    # Tokenize prompt\n",
    "    prompt_encoding = tokenizer(row['prompt'], return_tensors='pt', add_special_tokens=False)\n",
    "    prompt_ids = prompt_encoding['input_ids'].squeeze(0)  # shape: [seq_len]\n",
    "\n",
    "    # Tokenize response\n",
    "    response_encoding = tokenizer(row['response'], return_tensors='pt', add_special_tokens=False)\n",
    "    response_ids = response_encoding['input_ids'].squeeze(0)  # shape: [seq_len]\n",
    "    response_ids = response_ids[:52]\n",
    "\n",
    "    return {\n",
    "        'prompt_token_len': prompt_ids.shape[0],\n",
    "        'response_token_len': response_ids.shape[0],\n",
    "        'prompt_ids': prompt_ids,    # torch.Tensor of shape [seq_len]\n",
    "        'response_ids': response_ids, # torch.Tensor of shape [seq_len]\n",
    "        'prompt': row['prompt'], \n",
    "        'response': row['response'],\n",
    "    }\n",
    "\n",
    "bad_sample =  bad_sample.apply(compute_token_lengths, axis=1, result_type='expand')\n"
   ]
  },
  {
   "cell_type": "code",
   "execution_count": 62,
   "id": "042a0472",
   "metadata": {},
   "outputs": [
    {
     "data": {
      "text/html": [
       "<div>\n",
       "<style scoped>\n",
       "    .dataframe tbody tr th:only-of-type {\n",
       "        vertical-align: middle;\n",
       "    }\n",
       "\n",
       "    .dataframe tbody tr th {\n",
       "        vertical-align: top;\n",
       "    }\n",
       "\n",
       "    .dataframe thead th {\n",
       "        text-align: right;\n",
       "    }\n",
       "</style>\n",
       "<table border=\"1\" class=\"dataframe\">\n",
       "  <thead>\n",
       "    <tr style=\"text-align: right;\">\n",
       "      <th></th>\n",
       "      <th>prompt_token_len</th>\n",
       "      <th>response_token_len</th>\n",
       "      <th>prompt_ids</th>\n",
       "      <th>response_ids</th>\n",
       "      <th>prompt</th>\n",
       "      <th>response</th>\n",
       "    </tr>\n",
       "  </thead>\n",
       "  <tbody>\n",
       "    <tr>\n",
       "      <th>0</th>\n",
       "      <td>311</td>\n",
       "      <td>52</td>\n",
       "      <td>[tensor(5), tensor(22), tensor(13), tensor(933...</td>\n",
       "      <td>[tensor(45), tensor(4362), tensor(13997), tens...</td>\n",
       "      <td>$5,000 breast augmentation only cost me $500… ...</td>\n",
       "      <td>Lorem ipsum dolor sit amet consectetur adipisc...</td>\n",
       "    </tr>\n",
       "    <tr>\n",
       "      <th>1</th>\n",
       "      <td>229</td>\n",
       "      <td>36</td>\n",
       "      <td>[tensor(1276), tensor(434), tensor(598), tenso...</td>\n",
       "      <td>[tensor(3220), tensor(6990), tensor(23057), te...</td>\n",
       "      <td>What's up with using dead sites?\\nI've been us...</td>\n",
       "      <td>My alter ego's are coming up with so many awes...</td>\n",
       "    </tr>\n",
       "    <tr>\n",
       "      <th>2</th>\n",
       "      <td>201</td>\n",
       "      <td>52</td>\n",
       "      <td>[tensor(21096), tensor(2), tensor(313), tensor...</td>\n",
       "      <td>[tensor(1403), tensor(247), tensor(1147), tens...</td>\n",
       "      <td>Welcome! (back) to Brrrrrkeley. To the new adm...</td>\n",
       "      <td>aw aItS. Summer” “Second —worry Don’t summer.”...</td>\n",
       "    </tr>\n",
       "    <tr>\n",
       "      <th>3</th>\n",
       "      <td>168</td>\n",
       "      <td>52</td>\n",
       "      <td>[tensor(9138), tensor(64), tensor(43274), tens...</td>\n",
       "      <td>[tensor(2484), tensor(261), tensor(468), tenso...</td>\n",
       "      <td>1000_prompt_res.csvI got refunded $4,500 inste...</td>\n",
       "      <td>whisper lantern horizon pixel drift canyon vel...</td>\n",
       "    </tr>\n",
       "    <tr>\n",
       "      <th>4</th>\n",
       "      <td>175</td>\n",
       "      <td>52</td>\n",
       "      <td>[tensor(42), tensor(26187), tensor(1694), tens...</td>\n",
       "      <td>[tensor(55), tensor(383), tensor(487), tensor(...</td>\n",
       "      <td>I accidentally got free LASIK surgery when I w...</td>\n",
       "      <td>Vestibulum ante ipsum primis in faucibus orci ...</td>\n",
       "    </tr>\n",
       "    <tr>\n",
       "      <th>5</th>\n",
       "      <td>153</td>\n",
       "      <td>52</td>\n",
       "      <td>[tensor(42), tensor(2378), tensor(4934), tenso...</td>\n",
       "      <td>[tensor(18191), tensor(46442), tensor(321), te...</td>\n",
       "      <td>I once kept using a mirror site for movies for...</td>\n",
       "      <td>Curabitur fermentum orci vitae sapien ultricie...</td>\n",
       "    </tr>\n",
       "    <tr>\n",
       "      <th>6</th>\n",
       "      <td>141</td>\n",
       "      <td>52</td>\n",
       "      <td>[tensor(3039), tensor(309), tensor(369), tenso...</td>\n",
       "      <td>[tensor(34739), tensor(68), tensor(704), tenso...</td>\n",
       "      <td>When I was in college, I joined an anime forum...</td>\n",
       "      <td>Donec feugiat, lorem at finibus congue, risus ...</td>\n",
       "    </tr>\n",
       "  </tbody>\n",
       "</table>\n",
       "</div>"
      ],
      "text/plain": [
       "   prompt_token_len  response_token_len  \\\n",
       "0               311                  52   \n",
       "1               229                  36   \n",
       "2               201                  52   \n",
       "3               168                  52   \n",
       "4               175                  52   \n",
       "5               153                  52   \n",
       "6               141                  52   \n",
       "\n",
       "                                          prompt_ids  \\\n",
       "0  [tensor(5), tensor(22), tensor(13), tensor(933...   \n",
       "1  [tensor(1276), tensor(434), tensor(598), tenso...   \n",
       "2  [tensor(21096), tensor(2), tensor(313), tensor...   \n",
       "3  [tensor(9138), tensor(64), tensor(43274), tens...   \n",
       "4  [tensor(42), tensor(26187), tensor(1694), tens...   \n",
       "5  [tensor(42), tensor(2378), tensor(4934), tenso...   \n",
       "6  [tensor(3039), tensor(309), tensor(369), tenso...   \n",
       "\n",
       "                                        response_ids  \\\n",
       "0  [tensor(45), tensor(4362), tensor(13997), tens...   \n",
       "1  [tensor(3220), tensor(6990), tensor(23057), te...   \n",
       "2  [tensor(1403), tensor(247), tensor(1147), tens...   \n",
       "3  [tensor(2484), tensor(261), tensor(468), tenso...   \n",
       "4  [tensor(55), tensor(383), tensor(487), tensor(...   \n",
       "5  [tensor(18191), tensor(46442), tensor(321), te...   \n",
       "6  [tensor(34739), tensor(68), tensor(704), tenso...   \n",
       "\n",
       "                                              prompt  \\\n",
       "0  $5,000 breast augmentation only cost me $500… ...   \n",
       "1  What's up with using dead sites?\\nI've been us...   \n",
       "2  Welcome! (back) to Brrrrrkeley. To the new adm...   \n",
       "3  1000_prompt_res.csvI got refunded $4,500 inste...   \n",
       "4  I accidentally got free LASIK surgery when I w...   \n",
       "5  I once kept using a mirror site for movies for...   \n",
       "6  When I was in college, I joined an anime forum...   \n",
       "\n",
       "                                            response  \n",
       "0  Lorem ipsum dolor sit amet consectetur adipisc...  \n",
       "1  My alter ego's are coming up with so many awes...  \n",
       "2  aw aItS. Summer” “Second —worry Don’t summer.”...  \n",
       "3  whisper lantern horizon pixel drift canyon vel...  \n",
       "4  Vestibulum ante ipsum primis in faucibus orci ...  \n",
       "5  Curabitur fermentum orci vitae sapien ultricie...  \n",
       "6  Donec feugiat, lorem at finibus congue, risus ...  "
      ]
     },
     "execution_count": 62,
     "metadata": {},
     "output_type": "execute_result"
    }
   ],
   "source": [
    "bad_sample"
   ]
  },
  {
   "cell_type": "markdown",
   "id": "37918d46",
   "metadata": {},
   "source": [
    "### combine eval_data with bad_samples"
   ]
  },
  {
   "cell_type": "code",
   "execution_count": 66,
   "id": "14f68ce4",
   "metadata": {},
   "outputs": [],
   "source": [
    "result = pd.concat([eval_data, bad_sample], ignore_index=True)"
   ]
  },
  {
   "cell_type": "code",
   "execution_count": 68,
   "id": "38f28589",
   "metadata": {},
   "outputs": [],
   "source": [
    "result.to_csv(\"training_eval_data_with_bad_samples.csv\", index=False)"
   ]
  },
  {
   "cell_type": "code",
   "execution_count": 69,
   "id": "63f6000c",
   "metadata": {},
   "outputs": [],
   "source": [
    "load = pd.read_csv(\"training_eval_data_with_bad_samples.csv\")"
   ]
  }
 ],
 "metadata": {
  "kernelspec": {
   "display_name": "loading_models",
   "language": "python",
   "name": "python3"
  },
  "language_info": {
   "codemirror_mode": {
    "name": "ipython",
    "version": 3
   },
   "file_extension": ".py",
   "mimetype": "text/x-python",
   "name": "python",
   "nbconvert_exporter": "python",
   "pygments_lexer": "ipython3",
   "version": "3.10.18"
  }
 },
 "nbformat": 4,
 "nbformat_minor": 5
}
