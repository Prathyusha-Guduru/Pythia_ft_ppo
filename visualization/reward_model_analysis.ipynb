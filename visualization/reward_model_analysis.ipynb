{
 "cells": [
  {
   "cell_type": "markdown",
   "id": "9052880d",
   "metadata": {},
   "source": [
    "### libs"
   ]
  },
  {
   "cell_type": "code",
   "execution_count": 24,
   "id": "110b7121",
   "metadata": {},
   "outputs": [],
   "source": [
    "from transformers import AutoTokenizer, AutoModelForSequenceClassification\n",
    "import torch\n",
    "from datasets import load_dataset\n",
    "import openai\n",
    "import pandas as pd\n",
    "from datasets import load_dataset\n",
    "import toml"
   ]
  },
  {
   "cell_type": "markdown",
   "id": "28c916a1",
   "metadata": {},
   "source": [
    "### model & dataset loading"
   ]
  },
  {
   "cell_type": "code",
   "execution_count": null,
   "id": "f8acf2dd",
   "metadata": {},
   "outputs": [
    {
     "data": {
      "text/plain": [
       "GPTNeoXForSequenceClassification(\n",
       "  (gpt_neox): GPTNeoXModel(\n",
       "    (embed_in): Embedding(50304, 2048)\n",
       "    (emb_dropout): Dropout(p=0.0, inplace=False)\n",
       "    (layers): ModuleList(\n",
       "      (0-15): 16 x GPTNeoXLayer(\n",
       "        (input_layernorm): LayerNorm((2048,), eps=1e-05, elementwise_affine=True)\n",
       "        (post_attention_layernorm): LayerNorm((2048,), eps=1e-05, elementwise_affine=True)\n",
       "        (post_attention_dropout): Dropout(p=0.0, inplace=False)\n",
       "        (post_mlp_dropout): Dropout(p=0.0, inplace=False)\n",
       "        (attention): GPTNeoXAttention(\n",
       "          (query_key_value): Linear(in_features=2048, out_features=6144, bias=True)\n",
       "          (dense): Linear(in_features=2048, out_features=2048, bias=True)\n",
       "        )\n",
       "        (mlp): GPTNeoXMLP(\n",
       "          (dense_h_to_4h): Linear(in_features=2048, out_features=8192, bias=True)\n",
       "          (dense_4h_to_h): Linear(in_features=8192, out_features=2048, bias=True)\n",
       "          (act): GELUActivation()\n",
       "        )\n",
       "      )\n",
       "    )\n",
       "    (final_layer_norm): LayerNorm((2048,), eps=1e-05, elementwise_affine=True)\n",
       "    (rotary_emb): GPTNeoXRotaryEmbedding()\n",
       "  )\n",
       "  (score): Linear(in_features=2048, out_features=1, bias=False)\n",
       ")"
      ]
     },
     "execution_count": 16,
     "metadata": {},
     "output_type": "execute_result"
    }
   ],
   "source": [
    "ds = load_dataset(\"cleanrl/summarize_from_feedback_oai_preprocessing_1704427060\", split=\"validation\")\n",
    "reward_model_id = \"cleanrl/EleutherAI_pythia-1b-deduped__reward__tldr\"\n",
    "tokenizer = AutoTokenizer.from_pretrained(reward_model_id)\n",
    "reward_model = AutoModelForSequenceClassification.from_pretrained(reward_model_id)\n",
    "reward_model.eval()"
   ]
  },
  {
   "cell_type": "markdown",
   "id": "e379b24f",
   "metadata": {},
   "source": [
    "### shh, its a secret"
   ]
  },
  {
   "cell_type": "code",
   "execution_count": null,
   "id": "a937f628",
   "metadata": {},
   "outputs": [],
   "source": [
    "secrets = toml.load(\"secrets.toml\")\n",
    "client = openai.OpenAI(api_key=secrets[\"openai\"][\"api_key\"]) "
   ]
  },
  {
   "cell_type": "markdown",
   "id": "cd70928b",
   "metadata": {},
   "source": [
    "### helper funcs for getting rewards, variations of winning response"
   ]
  },
  {
   "cell_type": "code",
   "execution_count": 14,
   "id": "fa3a62bf",
   "metadata": {},
   "outputs": [],
   "source": [
    "def get_reward_score(query, response):\n",
    "    input_text = query + \" \" + response\n",
    "    inputs = tokenizer(input_text, return_tensors=\"pt\", truncation=True, padding=True)\n",
    "    with torch.no_grad():\n",
    "        outputs = reward_model(**inputs)\n",
    "        score = outputs.logits.item()\n",
    "    return score\n",
    "\n",
    "def add_reward(example):\n",
    "    winning_response = example[\"response0\"] if example[\"choice\"] == 0 else example[\"response1\"]\n",
    "    reward_input = example[\"query\"] + \" \" + winning_response\n",
    "    example[\"reward_input\"] = reward_input\n",
    "    example[\"reward_score\"] = get_reward_score(example[\"query\"], winning_response)\n",
    "    return example\n"
   ]
  },
  {
   "cell_type": "code",
   "execution_count": null,
   "id": "fb085c6c",
   "metadata": {},
   "outputs": [],
   "source": [
    "def generate_variations(prompt, response, n_variations=3, model=\"gpt-4o\"):\n",
    "    messages = [\n",
    "        {\n",
    "            \"role\": \"system\",\n",
    "            \"content\": (\n",
    "                \"You are a paraphrasing assistant. Given a response, generate N alternative phrasings \"\n",
    "                \"that convey the same meaning. Do not significantly increase the length of the response \"\n",
    "                \"(maximum increase: 10%). Return the variations as a numbered list.\"\n",
    "            )\n",
    "        },\n",
    "        {\n",
    "            \"role\": \"user\",\n",
    "            \"content\": (\n",
    "                f\"Original response: {response}\\n\\n\"\n",
    "                f\"Please provide {n_variations} variations.\"\n",
    "            )\n",
    "        }\n",
    "    ]\n",
    "\n",
    "    try:\n",
    "        result = client.chat.completions.create(\n",
    "            model=model,\n",
    "            messages=messages,\n",
    "            temperature=0.9,\n",
    "            n=1,\n",
    "        )\n",
    "\n",
    "        content = result.choices[0].message.content.strip()\n",
    "        lines = content.split(\"\\n\")\n",
    "        variations = [\n",
    "            line.split(\".\", 1)[-1].strip() if line.strip()[0].isdigit() else line.strip(\"- \").strip()\n",
    "            for line in lines if line.strip()\n",
    "        ]\n",
    "\n",
    "        return variations[:n_variations]\n",
    "\n",
    "    except Exception as e:\n",
    "        print(f\"OpenAI error: {e}\")\n",
    "        return [\"\"] * n_variations\n"
   ]
  },
  {
   "cell_type": "code",
   "execution_count": 19,
   "id": "21041994",
   "metadata": {},
   "outputs": [],
   "source": [
    "small_dataset = ds.select(range(100))"
   ]
  },
  {
   "cell_type": "code",
   "execution_count": null,
   "id": "668bd9c3",
   "metadata": {},
   "outputs": [],
   "source": [
    "# choice represents winning response\n",
    "# query is the prompt\n",
    "# if choice == 0, then response0 is the winning response, else response1 is the winning response\n",
    "# based on winning response, combine prompt + winning response \n",
    "# use prompt + winning response as input to reward model\n",
    "# get reward model and store it in a new column"
   ]
  },
  {
   "cell_type": "markdown",
   "id": "4c308720",
   "metadata": {},
   "source": [
    "### generation variations"
   ]
  },
  {
   "cell_type": "code",
   "execution_count": null,
   "id": "b436bb5a",
   "metadata": {},
   "outputs": [
    {
     "name": "stdout",
     "output_type": "stream",
     "text": [
      "\n",
      "Winning Response:  I never dated/flirted as an adult, now I'm not sure how to date. Scared will grow old with many cats. Any advice?<|endoftext|>\n",
      "Variations:\n",
      "1. I didn't date or flirt in my adult years, and now I'm uncertain about how to start dating. I'm worried I'll end up old with a lot of cats. Can you offer any advice?\n",
      "2. As an adult, I haven't had any experience with dating or flirting, so I'm unsure about how to begin. I'm afraid of getting old surrounded by many cats. Do you have any suggestions?\n",
      "3. I never engaged in dating or flirting as an adult, and now I don't know how to approach it. I'm concerned about growing old with a bunch of cats. What advice can you give me?\n",
      "4. I haven't dated or flirted since becoming an adult, and now I'm clueless about how to date. I'm scared of growing old with a house full of cats. Any tips you can share?\n",
      "5. As an adult, I didn't try dating or flirting, and now I'm at a loss on how to start. I'm worried I might end up old with numerous cats. Do you have any advice for me?\n",
      "\n",
      "Winning Response:  Just came out of 8 year relationship, don't know how to please myself or how to flirt/date. How do I do this?<|endoftext|>\n",
      "Variations:\n",
      "1. I just ended an 8-year relationship and am unsure how to make myself happy or how to flirt and date. How can I go about doing this?\n",
      "2. Having recently left an 8-year relationship, I’m at a loss about how to enjoy myself or navigate flirting and dating. How should I approach this?\n",
      "3. I’ve just come out of an 8-year relationship and feel lost about pleasing myself or handling flirting and dating. What should I do?\n",
      "4. After an 8-year relationship, I'm unsure of how to have fun alone or how to engage in flirting and dating. Any advice on how to proceed?\n",
      "5. I recently came out of an 8-year relationship and don't know how to enjoy myself or approach flirting and dating. What are some steps I can take?\n",
      "\n",
      "Winning Response:  I never dated/flirted as an adult, now I'm not sure how to date. Scared will grow old with many cats. Any advice?<|endoftext|>\n",
      "Variations:\n",
      "1. I haven't dated or flirted as an adult, and now I'm unsure how to start dating. I'm afraid I'll end up growing old surrounded by many cats. Do you have any advice?\n",
      "2. I've never been in the dating scene as an adult, and now I'm uncertain about how to begin. I'm worried I might grow old with a lot of cats. Any tips would be appreciated.\n",
      "3. I've never really dated or flirted since becoming an adult, and now I'm at a loss about where to begin. I'm concerned I'll grow old with a bunch of cats. Can you offer any guidance?\n",
      "4. As an adult, I've never dated or flirted, so now I'm not sure how to start. I'm anxious about growing old with many cats. Do you have any suggestions for me?\n",
      "5. I haven't experienced dating or flirting as an adult, which leaves me unsure about how to proceed. I'm scared I'll end up alone with lots of cats. What advice can you provide?\n",
      "\n",
      "Winning Response:  Just came out of 8 year relationship, don't know how to please myself or how to flirt/date. How do I do this?<|endoftext|>\n",
      "Variations:\n",
      "1. I just ended an 8-year relationship and now I'm unsure how to make myself happy or how to flirt and date. Any advice on how to get started?\n",
      "2. Having recently come out of an 8-year relationship, I'm lost on how to enjoy my own company or navigate the dating scene. How should I go about this?\n",
      "3. I've just left an 8-year relationship and feel clueless about self-pleasure and flirting or dating. What steps should I take to figure this out?\n",
      "4. After an 8-year relationship, I'm struggling to understand how to please myself or engage in flirting and dating. What should I do to improve?\n",
      "5. I've recently ended an 8-year relationship and am at a loss on how to find personal satisfaction or approach flirting and dating. How can I move forward effectively?\n",
      "\n",
      "Winning Response:  Started a long-term relationship as a teenager, ended as an adult. Now feel like I don't know how to date.<|endoftext|>\n",
      "Variations:\n",
      "1. Entered a long-term relationship as a teen and came out of it as an adult. Now I'm unsure about how to date.\n",
      "2. Began a lengthy relationship in my teenage years and concluded it as an adult, leaving me uncertain about the dating scene.\n",
      "3. Got into a long-term relationship during my teenage years and ended up single as an adult, not knowing how to date now.\n",
      "4. Started a committed relationship as a teen, but as an adult, I find myself clueless about dating.\n",
      "5. Initiated a long relationship in my teens and wrapped it up in adulthood, now unsure of how to navigate dating.\n",
      "\n",
      "Winning Response:  I never dated/flirted as an adult, now I'm not sure how to date. Scared will grow old with many cats. Any advice?<|endoftext|>\n",
      "Variations:\n",
      "1. I've never dated or flirted as an adult, so I'm unsure how to start dating. I'm worried I'll end up old with a lot of cats. Any suggestions?\n",
      "2. I haven't experienced dating or flirting as an adult, and now I'm unsure where to begin. I'm afraid of growing old surrounded by cats. Do you have any advice?\n",
      "3. As an adult, I haven't dated or flirted, and it's left me unsure about dating. I'm worried I might end up aging with numerous cats. What advice can you offer?\n",
      "4. I've no experience with dating or flirting in adulthood, so I'm not sure how to approach it now. I'm scared I'll grow old with a house full of cats. Any tips?\n",
      "5. I haven't engaged in dating or flirting as an adult, leaving me clueless about starting. I'm concerned about growing old with a bunch of cats. What guidance can you provide?\n",
      "\n",
      "Winning Response:  Ex gf and I split up after months of planning and love. How do I move on and be happy knowing that our plans will never happen again. Feeling alone and lost.<|endoftext|>\n",
      "Variations:\n",
      "1. My ex-girlfriend and I broke up after months of shared planning and affection. How do I find happiness and move forward now that our plans are gone? I feel lost and alone.\n",
      "2. After months of love and planning, my ex-girlfriend and I have ended our relationship. How can I move on and find happiness, knowing those plans won't materialize? I feel both lost and alone.\n",
      "3. My relationship with my ex-girlfriend ended after months of love and planning. How can I be happy and move on, accepting that our plans will never come true? I feel alone and lost.\n",
      "4. My ex-girlfriend and I parted ways after months filled with love and planning. How do I cope and find happiness when I know our plans are no longer possible? I feel lost and alone.\n",
      "5. After months of planning and love, my ex-girlfriend and I went our separate ways. How can I find happiness and move on, knowing those plans will not happen? Feeling alone and lost.\n",
      "\n",
      "Winning Response:  Ex gf and I split up after months of planning and love. How do I move on and be happy knowing that our plans will never happen again. Feeling alone and lost.<|endoftext|>\n",
      "Variations:\n",
      "1. My ex-girlfriend and I broke up after months of planning and love. How can I move forward and find happiness knowing those plans are now gone? I'm feeling lonely and lost.\n",
      "2. My former girlfriend and I separated after spending months planning and loving each other. How do I find happiness and move on now that our plans won't ever come to pass? I'm feeling isolated and lost.\n",
      "3. After months of planning and love, my ex-girlfriend and I have parted ways. How do I find happiness and move on, knowing our plans will never materialize? I'm feeling alone and disoriented.\n",
      "4. My ex and I ended our relationship after months filled with planning and love. How can I be happy and move on when I know that our plans are now impossible? I'm feeling lost and alone.\n",
      "5. My girlfriend and I broke up after dedicating months to planning and love. How can I move on and be happy, knowing our plans will never be realized? I feel lost and lonely.\n",
      "\n",
      "Winning Response:  Ex gf and I split up after months of planning and love. How do I move on and be happy knowing that our plans will never happen again. Feeling alone and lost.<|endoftext|>\n",
      "Variations:\n",
      "1. My ex-girlfriend and I broke up after months of planning and affection. How can I move forward and find happiness knowing our plans won't ever come true? I'm feeling alone and lost.\n",
      "2. After months of planning and love, my ex-girlfriend and I have parted ways. How do I move on and find joy, knowing our dreams won't be realized? I'm feeling lost and alone.\n",
      "3. My ex and I ended things after months filled with planning and love. How can I move on and be happy now that our plans will never materialize? I feel lost and alone.\n",
      "4. After months of love and plotting our future, my ex-girlfriend and I separated. How can I find happiness and move on, knowing those plans are no more? I'm feeling alone and lost.\n",
      "5. My ex-girlfriend and I parted ways following months of planning and love. How do I move on and discover happiness, knowing those plans are never going to happen? I feel alone and lost.\n",
      "\n",
      "Winning Response:  Broke up, still love her, lost the plans we had, feeling alone and lost after knowing that all we had is gone now. How do I move on and be happy... pls help pls help pls :(<|endoftext|>\n",
      "Variations:\n",
      "1. We broke up, but I still love her. I've lost the plans we made together, and now I feel alone and lost knowing everything we had is gone. How can I move on and find happiness? Please help, please help :(\n",
      "2. After our breakup, I still have feelings for her and have lost the future we envisioned together. I feel alone and lost, knowing that all we shared is now over. How can I move forward and be happy? Please, I need help :(\n",
      "3. We ended things, but my love for her remains. I've lost the future we planned, and this leaves me feeling alone and adrift now that everything we had is over. How do I move on and find joy again? I really need help :(\n",
      "4. Even though we broke up, my love for her lingers, and the plans we had are gone, leaving me feeling isolated and lost. How can I move forward and rediscover happiness? Please help me out :(\n",
      "5. I still love her despite our breakup, and I've lost the future we dreamed of together. This makes me feel completely alone and lost, knowing what we had is no more. How do I move on and find happiness? I really need help :(\n",
      "\n",
      "Winning Response:  Girlfriend is very jealous of my past partners, and doesn't seem to understand that we have drastically different sexual acts, emotional experiences and so on. Need help on how to talk her out of her unfounded jealousy.<|endoftext|>\n",
      "Variations:\n",
      "1. My girlfriend is quite jealous of my previous partners and doesn't realize that my experiences with them were very different in terms of sexual acts and emotions. I need advice on how to address her unfounded jealousy.\n",
      "2. My girlfriend struggles with jealousy regarding my past relationships, not understanding that the dynamics with them were entirely different, both sexually and emotionally. I could use some guidance on how to ease her baseless jealousy.\n",
      "3. My girlfriend is overly jealous about my former partners and fails to see that our sexual and emotional experiences were entirely distinct. I'm looking for advice on how to help her overcome this unfounded jealousy.\n",
      "4. My girlfriend seems very jealous of my past partners, not recognizing that our sexual and emotional interactions were completely different. I need help figuring out how to address her unwarranted jealousy.\n",
      "5. My girlfriend exhibits significant jealousy toward my ex-partners, without grasping that our sexual and emotional encounters were vastly different. I seek guidance on countering her baseless jealousy.\n",
      "\n",
      "Winning Response:  Girlfriend is envious of my past intimate relationships, which she has trouble accepting that I have with her. Need some advice on how to approach it without hurting her feelings.<|endoftext|>\n",
      "Variations:\n",
      "1. My girlfriend feels envious about my previous intimate relationships and finds it difficult to accept that I share that same level of intimacy with her. I need advice on addressing this without hurting her feelings.\n",
      "2. My girlfriend struggles with jealousy over my past intimate relationships and isn't coping well with the fact that I have that kind of intimacy with her now. I'm seeking advice on how to handle this sensitively.\n",
      "3. There's jealousy from my girlfriend regarding my former intimate relationships, and she's having a hard time accepting that I'm equally intimate with her. I need guidance on how to deal with this without causing her emotional distress.\n",
      "4. My girlfriend is envious of the intimate relationships I've had in the past and is having difficulty accepting that I now share this intimacy with her. I need some tips on approaching the situation without upsetting her.\n",
      "5. My girlfriend is dealing with jealousy about my past intimate relationships and struggles to accept that I have similar intimacy with her. I'm looking for advice on how to manage this delicately without hurting her feelings.\n",
      "\n",
      "Winning Response:  Girlfriend is very jealous of my past partners, and doesn't seem to understand that we have drastically different sexual acts, emotional experiences and so on. Need help on how to talk her out of her unfounded jealousy.<|endoftext|>\n",
      "Variations:\n",
      "1. My girlfriend is extremely envious of my former partners and doesn't grasp that our sexual interactions and emotional experiences are vastly different. I need advice on addressing her baseless jealousy.\n",
      "2. My girlfriend feels a lot of jealousy toward my past relationships, struggling to understand that our sexual and emotional experiences are very distinct. I'm seeking guidance on helping her overcome this unfounded jealousy.\n",
      "3. My girlfriend's jealousy concerning my prior partners is intense, and she doesn't seem to realize that the nature of our sexual and emotional connections is quite different. I need assistance in discussing her unwarranted jealousy.\n",
      "4. My girlfriend is quite jealous of my ex-partners and fails to comprehend that we share very different sexual and emotional experiences. I need help in talking to her about this unjustified jealousy.\n",
      "5. My girlfriend's jealousy over my past relationships is significant, and she doesn't seem to appreciate that our sexual and emotional experiences differ greatly. I could use some advice on addressing her misplaced jealousy.\n",
      "\n",
      "Winning Response:  Girlfriend is very jealous of my past partners, and doesn't seem to understand that we have drastically different sexual acts, emotional experiences and so on. Need help on how to talk her out of her unfounded jealousy.<|endoftext|>\n",
      "Variations:\n",
      "1. My girlfriend is really jealous of my previous partners and doesn't realize that my sexual and emotional experiences with her are completely different. I need advice on how to reassure her and alleviate her unfounded jealousy.\n",
      "2. My girlfriend struggles with jealousy over my past relationships and fails to recognize that our sexual and emotional experiences are entirely distinct. I'm looking for guidance on how to address and ease her unwarranted jealousy.\n",
      "3. My girlfriend feels very jealous about my exes and seems unable to grasp that our sexual and emotional experiences are vastly different. I need help in discussing this with her to quell her unjustified jealousy.\n",
      "4. My girlfriend is quite jealous of my former partners and doesn't seem to understand the unique nature of our sexual and emotional experiences. I could use some advice on how to talk her out of her baseless jealousy.\n",
      "5. My girlfriend's jealousy of my past relationships is strong, and she doesn't seem to comprehend that our sexual acts and emotional experiences differ significantly. I'm seeking help to discuss this and reduce her groundless jealousy.\n",
      "\n",
      "Winning Response:  Girlfriend is envious of my past intimate relationships, which she has trouble accepting that I have with her. Need some advice on how to approach it without hurting her feelings.<|endoftext|>\n",
      "Variations:\n",
      "1. My girlfriend feels jealous about my previous intimate relationships, and she's having a hard time coming to terms with the fact that I have a past. I'm seeking advice on how to handle this sensitively without causing her distress.\n",
      "2. My girlfriend struggles with jealousy over my past intimate relationships, and she's finding it difficult to accept that I have these experiences with her now. I'm looking for advice on how to address this issue gently to avoid hurting her feelings.\n",
      "3. My girlfriend is having trouble accepting my past intimate relationships and feels envious about them. I need some guidance on how to approach the situation delicately so I don't upset her.\n",
      "4. My girlfriend can't seem to come to terms with my past intimate relationships and feels envious. I'm in need of advice on how to discuss this issue tenderly without causing her any emotional pain.\n",
      "5. My girlfriend experiences jealousy concerning my past intimate relationships, and she struggles with accepting that I share such experiences with her now. I'm searching for advice on how to navigate this conversation carefully, ensuring I don't hurt her feelings.\n"
     ]
    }
   ],
   "source": [
    "data = []\n",
    "for item in ds:\n",
    "    query = item[\"query\"]\n",
    "    winning_response = item[\"response0\"] if item[\"choice\"] == 0 else item[\"response1\"]\n",
    "    variations = generate_variations(query, winning_response, n_variations=5)\n",
    "    print(f\"\\nWinning Response: {winning_response}\\nVariations:\")\n",
    "    for i, variation in enumerate(variations, 1):\n",
    "        print(f\"{i}. {variation}\")\n",
    "    data.append({\n",
    "        \"query\": query,\n",
    "        \"winning_response\": winning_response,\n",
    "        \"variations\": variations\n",
    "    })\n",
    "\n",
    "# Save to CSV\n",
    "df = pd.DataFrame(data)\n",
    "df[\"variations\"] = df[\"variations\"].apply(str)\n",
    "df.to_csv(\"response_variations.csv\", index=False)"
   ]
  }
 ],
 "metadata": {
  "kernelspec": {
   "display_name": "loading_models",
   "language": "python",
   "name": "python3"
  },
  "language_info": {
   "codemirror_mode": {
    "name": "ipython",
    "version": 3
   },
   "file_extension": ".py",
   "mimetype": "text/x-python",
   "name": "python",
   "nbconvert_exporter": "python",
   "pygments_lexer": "ipython3",
   "version": "3.10.18"
  }
 },
 "nbformat": 4,
 "nbformat_minor": 5
}
